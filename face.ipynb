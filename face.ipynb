{
 "cells": [
  {
   "cell_type": "code",
   "execution_count": 2,
   "metadata": {},
   "outputs": [
    {
     "name": "stdout",
     "output_type": "stream",
     "text": [
      "性别：female\n",
      "年龄：22\n",
      "颜值：84.23\n"
     ]
    }
   ],
   "source": [
    "import base64\n",
    "from aip import AipFace\n",
    "APP_ID = '15768642'\n",
    "API_KEY = 'xhiiGmGPRCRj10XIqVlVeCky'\n",
    "SECRET_KEY = 'ZDMMAO7StwTKzW8BspVQxvoGtdgSW4yI'\n",
    "a_face = AipFace(APP_ID, API_KEY, SECRET_KEY)\n",
    "image_type = 'BASE64'\n",
    "options = {'face_field': 'age,gender,beauty'}\n",
    "def get_file_content(file_path):\n",
    "  with open(file_path, 'rb') as fr:\n",
    "    content = base64.b64encode(fr.read())\n",
    "    return content.decode('utf8')\n",
    "def face_score(file_path):\n",
    "  result = a_face.detect(get_file_content(file_path), \\\n",
    "                         image_type, options)\n",
    "  #print(result)\n",
    "  age = result['result']['face_list'][0]['age']\n",
    "  beauty = result['result']['face_list'][0]['beauty']\n",
    "  gender = result['result']['face_list'][0]['gender']['type']\n",
    "  return age, beauty, gender\n",
    "class ScoreSystem():\n",
    "    age, score, gender = face_score(\"./3.jpg\")\n",
    "    print(\"性别：\" + str(gender))\n",
    "    print(\"年龄：\" + str(age))\n",
    "    print(\"颜值：\" + str(score))\n"
   ]
  },
  {
   "cell_type": "markdown",
   "metadata": {
    "slideshow": {
     "slide_type": "-"
    }
   },
   "source": [
    "![title](3.jpg)"
   ]
  }
 ],
 "metadata": {
  "kernelspec": {
   "display_name": "Python 3",
   "language": "python",
   "name": "python3"
  },
  "language_info": {
   "codemirror_mode": {
    "name": "ipython",
    "version": 3
   },
   "file_extension": ".py",
   "mimetype": "text/x-python",
   "name": "python",
   "nbconvert_exporter": "python",
   "pygments_lexer": "ipython3",
   "version": "3.9.0"
  }
 },
 "nbformat": 4,
 "nbformat_minor": 4
}
